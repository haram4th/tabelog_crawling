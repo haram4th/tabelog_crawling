{
 "cells": [
  {
   "cell_type": "code",
   "execution_count": 115,
   "metadata": {
    "ExecuteTime": {
     "end_time": "2021-03-16T10:53:17.470589Z",
     "start_time": "2021-03-16T10:53:17.451409Z"
    }
   },
   "outputs": [],
   "source": [
    "import pandas as pd\n",
    "import re"
   ]
  },
  {
   "cell_type": "code",
   "execution_count": 116,
   "metadata": {
    "ExecuteTime": {
     "end_time": "2021-03-16T10:53:17.500506Z",
     "start_time": "2021-03-16T10:53:17.472592Z"
    }
   },
   "outputs": [
    {
     "data": {
      "text/html": [
       "<div>\n",
       "<style scoped>\n",
       "    .dataframe tbody tr th:only-of-type {\n",
       "        vertical-align: middle;\n",
       "    }\n",
       "\n",
       "    .dataframe tbody tr th {\n",
       "        vertical-align: top;\n",
       "    }\n",
       "\n",
       "    .dataframe thead th {\n",
       "        text-align: right;\n",
       "    }\n",
       "</style>\n",
       "<table border=\"1\" class=\"dataframe\">\n",
       "  <thead>\n",
       "    <tr style=\"text-align: right;\">\n",
       "      <th></th>\n",
       "      <th>0</th>\n",
       "    </tr>\n",
       "  </thead>\n",
       "  <tbody>\n",
       "    <tr>\n",
       "      <th>0</th>\n",
       "      <td>1. 오사카 시/기타 구 '무기토멘스케(麦と麺助)'</td>\n",
       "    </tr>\n",
       "    <tr>\n",
       "      <th>1</th>\n",
       "      <td>2. 오사카 시/기타 구 '세카이이치히마나라멘야(世界一暇なラーメン屋)'</td>\n",
       "    </tr>\n",
       "    <tr>\n",
       "      <th>2</th>\n",
       "      <td>3. 오사카 시/후쿠시마 구 '산쿠(烈志笑魚油 麺香房 三く)'</td>\n",
       "    </tr>\n",
       "    <tr>\n",
       "      <th>3</th>\n",
       "      <td>4. 오사카 시/후쿠시마 구 '모에요 멘스케(燃えよ麺助)'</td>\n",
       "    </tr>\n",
       "    <tr>\n",
       "      <th>4</th>\n",
       "      <td>5. 오사카 시/요도가와 구 '쿠소오야지사이고노히토후리(くそオヤジ最後のひとふり)'</td>\n",
       "    </tr>\n",
       "  </tbody>\n",
       "</table>\n",
       "</div>"
      ],
      "text/plain": [
       "                                               0\n",
       "0                   1. 오사카 시/기타 구 '무기토멘스케(麦と麺助)'\n",
       "1        2. 오사카 시/기타 구 '세카이이치히마나라멘야(世界一暇なラーメン屋)'\n",
       "2             3. 오사카 시/후쿠시마 구 '산쿠(烈志笑魚油 麺香房 三く)'\n",
       "3               4. 오사카 시/후쿠시마 구 '모에요 멘스케(燃えよ麺助)'\n",
       "4  5. 오사카 시/요도가와 구 '쿠소오야지사이고노히토후리(くそオヤジ最後のひとふり)'"
      ]
     },
     "execution_count": 116,
     "metadata": {},
     "output_type": "execute_result"
    }
   ],
   "source": [
    "data = pd.read_csv('./ramen_guide_shops.csv', header=None)\n",
    "data.head()"
   ]
  },
  {
   "cell_type": "code",
   "execution_count": 117,
   "metadata": {
    "ExecuteTime": {
     "end_time": "2021-03-16T10:53:17.515469Z",
     "start_time": "2021-03-16T10:53:17.503500Z"
    }
   },
   "outputs": [],
   "source": [
    "data = data[0]"
   ]
  },
  {
   "cell_type": "code",
   "execution_count": 118,
   "metadata": {
    "ExecuteTime": {
     "end_time": "2021-03-16T10:53:17.530232Z",
     "start_time": "2021-03-16T10:53:17.519457Z"
    },
    "scrolled": true
   },
   "outputs": [],
   "source": [
    "dohuken = []\n",
    "kshopname = []\n",
    "jshopname = []\n",
    "\n",
    "for temp1 in data:\n",
    "    temp2 = re.sub(r'[0-9]', \"\", temp1)\n",
    "    temp3 = temp2.split('/')\n",
    "    dohuken.append(re.sub('[.-=.#/?:$}]','',temp3[0]))\n",
    "    temp4 = temp3[1].split(\" '\")\n",
    "    temp5 = temp4[1].split(\"(\")\n",
    "    kshopname.append(temp5[0])\n",
    "    jshopname.append(re.sub('[)]','',temp5[1]))\n",
    "\n"
   ]
  },
  {
   "cell_type": "code",
   "execution_count": 119,
   "metadata": {
    "ExecuteTime": {
     "end_time": "2021-03-16T10:53:17.560784Z",
     "start_time": "2021-03-16T10:53:17.532251Z"
    }
   },
   "outputs": [
    {
     "data": {
      "text/html": [
       "<div>\n",
       "<style scoped>\n",
       "    .dataframe tbody tr th:only-of-type {\n",
       "        vertical-align: middle;\n",
       "    }\n",
       "\n",
       "    .dataframe tbody tr th {\n",
       "        vertical-align: top;\n",
       "    }\n",
       "\n",
       "    .dataframe thead th {\n",
       "        text-align: right;\n",
       "    }\n",
       "</style>\n",
       "<table border=\"1\" class=\"dataframe\">\n",
       "  <thead>\n",
       "    <tr style=\"text-align: right;\">\n",
       "      <th></th>\n",
       "      <th>dohuken</th>\n",
       "      <th>kshopname</th>\n",
       "      <th>jshopname</th>\n",
       "    </tr>\n",
       "  </thead>\n",
       "  <tbody>\n",
       "    <tr>\n",
       "      <th>0</th>\n",
       "      <td>오사카 시</td>\n",
       "      <td>무기토멘스케</td>\n",
       "      <td>麦と麺助'</td>\n",
       "    </tr>\n",
       "    <tr>\n",
       "      <th>1</th>\n",
       "      <td>오사카 시</td>\n",
       "      <td>세카이이치히마나라멘야</td>\n",
       "      <td>世界一暇なラーメン屋'</td>\n",
       "    </tr>\n",
       "    <tr>\n",
       "      <th>2</th>\n",
       "      <td>오사카 시</td>\n",
       "      <td>산쿠</td>\n",
       "      <td>烈志笑魚油 麺香房 三く'</td>\n",
       "    </tr>\n",
       "    <tr>\n",
       "      <th>3</th>\n",
       "      <td>오사카 시</td>\n",
       "      <td>모에요 멘스케</td>\n",
       "      <td>燃えよ麺助'</td>\n",
       "    </tr>\n",
       "    <tr>\n",
       "      <th>4</th>\n",
       "      <td>오사카 시</td>\n",
       "      <td>쿠소오야지사이고노히토후리</td>\n",
       "      <td>くそオヤジ最後のひとふり'</td>\n",
       "    </tr>\n",
       "    <tr>\n",
       "      <th>...</th>\n",
       "      <td>...</td>\n",
       "      <td>...</td>\n",
       "      <td>...</td>\n",
       "    </tr>\n",
       "    <tr>\n",
       "      <th>171</th>\n",
       "      <td>돗토리 현</td>\n",
       "      <td>이노요시</td>\n",
       "      <td>いのよし'</td>\n",
       "    </tr>\n",
       "    <tr>\n",
       "      <th>172</th>\n",
       "      <td>시마네 현</td>\n",
       "      <td>구우카이</td>\n",
       "      <td>空海'</td>\n",
       "    </tr>\n",
       "    <tr>\n",
       "      <th>173</th>\n",
       "      <td>시마네 현</td>\n",
       "      <td>산요켄</td>\n",
       "      <td>三洋軒'</td>\n",
       "    </tr>\n",
       "    <tr>\n",
       "      <th>174</th>\n",
       "      <td>가가와 현</td>\n",
       "      <td>타소가레탄데무</td>\n",
       "      <td>黄昏タンデム'</td>\n",
       "    </tr>\n",
       "    <tr>\n",
       "      <th>175</th>\n",
       "      <td>가가와 현</td>\n",
       "      <td>시나소바 사누키로쿠</td>\n",
       "      <td>支那そば 讃岐ロック'</td>\n",
       "    </tr>\n",
       "  </tbody>\n",
       "</table>\n",
       "<p>176 rows × 3 columns</p>\n",
       "</div>"
      ],
      "text/plain": [
       "    dohuken      kshopname      jshopname\n",
       "0     오사카 시         무기토멘스케          麦と麺助'\n",
       "1     오사카 시    세카이이치히마나라멘야    世界一暇なラーメン屋'\n",
       "2     오사카 시             산쿠  烈志笑魚油 麺香房 三く'\n",
       "3     오사카 시        모에요 멘스케         燃えよ麺助'\n",
       "4     오사카 시  쿠소오야지사이고노히토후리  くそオヤジ最後のひとふり'\n",
       "..      ...            ...            ...\n",
       "171   돗토리 현           이노요시          いのよし'\n",
       "172   시마네 현           구우카이           空海' \n",
       "173   시마네 현            산요켄           三洋軒'\n",
       "174   가가와 현        타소가레탄데무        黄昏タンデム'\n",
       "175   가가와 현     시나소바 사누키로쿠    支那そば 讃岐ロック'\n",
       "\n",
       "[176 rows x 3 columns]"
      ]
     },
     "execution_count": 119,
     "metadata": {},
     "output_type": "execute_result"
    }
   ],
   "source": [
    "data2 = pd.DataFrame(dohuken)\n",
    "data2['kshopname'] = kshopname\n",
    "data2['jshopname'] = jshopname\n",
    "data2.columns = ['dohuken','kshopname','jshopname']\n",
    "data2"
   ]
  },
  {
   "cell_type": "code",
   "execution_count": 120,
   "metadata": {
    "ExecuteTime": {
     "end_time": "2021-03-16T10:53:17.590698Z",
     "start_time": "2021-03-16T10:53:17.564778Z"
    },
    "scrolled": true
   },
   "outputs": [
    {
     "data": {
      "text/html": [
       "<div>\n",
       "<style scoped>\n",
       "    .dataframe tbody tr th:only-of-type {\n",
       "        vertical-align: middle;\n",
       "    }\n",
       "\n",
       "    .dataframe tbody tr th {\n",
       "        vertical-align: top;\n",
       "    }\n",
       "\n",
       "    .dataframe thead th {\n",
       "        text-align: right;\n",
       "    }\n",
       "</style>\n",
       "<table border=\"1\" class=\"dataframe\">\n",
       "  <thead>\n",
       "    <tr style=\"text-align: right;\">\n",
       "      <th></th>\n",
       "      <th>dohuken</th>\n",
       "      <th>jshopname</th>\n",
       "      <th>kshopname</th>\n",
       "    </tr>\n",
       "  </thead>\n",
       "  <tbody>\n",
       "    <tr>\n",
       "      <th>0</th>\n",
       "      <td>오사카 시</td>\n",
       "      <td>麦と麺助'</td>\n",
       "      <td>무기토멘스케</td>\n",
       "    </tr>\n",
       "    <tr>\n",
       "      <th>1</th>\n",
       "      <td>오사카 시</td>\n",
       "      <td>世界一暇なラーメン屋'</td>\n",
       "      <td>세카이이치히마나라멘야</td>\n",
       "    </tr>\n",
       "    <tr>\n",
       "      <th>2</th>\n",
       "      <td>오사카 시</td>\n",
       "      <td>烈志笑魚油 麺香房 三く'</td>\n",
       "      <td>산쿠</td>\n",
       "    </tr>\n",
       "    <tr>\n",
       "      <th>3</th>\n",
       "      <td>오사카 시</td>\n",
       "      <td>燃えよ麺助'</td>\n",
       "      <td>모에요 멘스케</td>\n",
       "    </tr>\n",
       "    <tr>\n",
       "      <th>4</th>\n",
       "      <td>오사카 시</td>\n",
       "      <td>くそオヤジ最後のひとふり'</td>\n",
       "      <td>쿠소오야지사이고노히토후리</td>\n",
       "    </tr>\n",
       "    <tr>\n",
       "      <th>...</th>\n",
       "      <td>...</td>\n",
       "      <td>...</td>\n",
       "      <td>...</td>\n",
       "    </tr>\n",
       "    <tr>\n",
       "      <th>171</th>\n",
       "      <td>돗토리 현</td>\n",
       "      <td>いのよし'</td>\n",
       "      <td>이노요시</td>\n",
       "    </tr>\n",
       "    <tr>\n",
       "      <th>172</th>\n",
       "      <td>시마네 현</td>\n",
       "      <td>空海'</td>\n",
       "      <td>구우카이</td>\n",
       "    </tr>\n",
       "    <tr>\n",
       "      <th>173</th>\n",
       "      <td>시마네 현</td>\n",
       "      <td>三洋軒'</td>\n",
       "      <td>산요켄</td>\n",
       "    </tr>\n",
       "    <tr>\n",
       "      <th>174</th>\n",
       "      <td>가가와 현</td>\n",
       "      <td>黄昏タンデム'</td>\n",
       "      <td>타소가레탄데무</td>\n",
       "    </tr>\n",
       "    <tr>\n",
       "      <th>175</th>\n",
       "      <td>가가와 현</td>\n",
       "      <td>支那そば 讃岐ロック'</td>\n",
       "      <td>시나소바 사누키로쿠</td>\n",
       "    </tr>\n",
       "  </tbody>\n",
       "</table>\n",
       "<p>176 rows × 3 columns</p>\n",
       "</div>"
      ],
      "text/plain": [
       "    dohuken      jshopname      kshopname\n",
       "0     오사카 시          麦と麺助'         무기토멘스케\n",
       "1     오사카 시    世界一暇なラーメン屋'    세카이이치히마나라멘야\n",
       "2     오사카 시  烈志笑魚油 麺香房 三く'             산쿠\n",
       "3     오사카 시         燃えよ麺助'        모에요 멘스케\n",
       "4     오사카 시  くそオヤジ最後のひとふり'  쿠소오야지사이고노히토후리\n",
       "..      ...            ...            ...\n",
       "171   돗토리 현          いのよし'           이노요시\n",
       "172   시마네 현           空海'            구우카이\n",
       "173   시마네 현           三洋軒'            산요켄\n",
       "174   가가와 현        黄昏タンデム'        타소가레탄데무\n",
       "175   가가와 현    支那そば 讃岐ロック'     시나소바 사누키로쿠\n",
       "\n",
       "[176 rows x 3 columns]"
      ]
     },
     "execution_count": 120,
     "metadata": {},
     "output_type": "execute_result"
    }
   ],
   "source": [
    "data2 = data2[['dohuken','jshopname','kshopname']]\n",
    "data2"
   ]
  },
  {
   "cell_type": "code",
   "execution_count": 121,
   "metadata": {
    "ExecuteTime": {
     "end_time": "2021-03-16T10:53:17.605661Z",
     "start_time": "2021-03-16T10:53:17.593689Z"
    }
   },
   "outputs": [],
   "source": [
    "data2['jshopname'] = data2['jshopname'].apply(lambda x : re.sub(\"[$']\",'', x))"
   ]
  },
  {
   "cell_type": "code",
   "execution_count": 122,
   "metadata": {
    "ExecuteTime": {
     "end_time": "2021-03-16T10:53:17.621346Z",
     "start_time": "2021-03-16T10:53:17.608648Z"
    }
   },
   "outputs": [
    {
     "data": {
      "text/html": [
       "<div>\n",
       "<style scoped>\n",
       "    .dataframe tbody tr th:only-of-type {\n",
       "        vertical-align: middle;\n",
       "    }\n",
       "\n",
       "    .dataframe tbody tr th {\n",
       "        vertical-align: top;\n",
       "    }\n",
       "\n",
       "    .dataframe thead th {\n",
       "        text-align: right;\n",
       "    }\n",
       "</style>\n",
       "<table border=\"1\" class=\"dataframe\">\n",
       "  <thead>\n",
       "    <tr style=\"text-align: right;\">\n",
       "      <th></th>\n",
       "      <th>dohuken</th>\n",
       "      <th>jshopname</th>\n",
       "      <th>kshopname</th>\n",
       "    </tr>\n",
       "  </thead>\n",
       "  <tbody>\n",
       "    <tr>\n",
       "      <th>0</th>\n",
       "      <td>오사카 시</td>\n",
       "      <td>麦と麺助</td>\n",
       "      <td>무기토멘스케</td>\n",
       "    </tr>\n",
       "    <tr>\n",
       "      <th>1</th>\n",
       "      <td>오사카 시</td>\n",
       "      <td>世界一暇なラーメン屋</td>\n",
       "      <td>세카이이치히마나라멘야</td>\n",
       "    </tr>\n",
       "    <tr>\n",
       "      <th>2</th>\n",
       "      <td>오사카 시</td>\n",
       "      <td>烈志笑魚油 麺香房 三く</td>\n",
       "      <td>산쿠</td>\n",
       "    </tr>\n",
       "    <tr>\n",
       "      <th>3</th>\n",
       "      <td>오사카 시</td>\n",
       "      <td>燃えよ麺助</td>\n",
       "      <td>모에요 멘스케</td>\n",
       "    </tr>\n",
       "    <tr>\n",
       "      <th>4</th>\n",
       "      <td>오사카 시</td>\n",
       "      <td>くそオヤジ最後のひとふり</td>\n",
       "      <td>쿠소오야지사이고노히토후리</td>\n",
       "    </tr>\n",
       "    <tr>\n",
       "      <th>...</th>\n",
       "      <td>...</td>\n",
       "      <td>...</td>\n",
       "      <td>...</td>\n",
       "    </tr>\n",
       "    <tr>\n",
       "      <th>171</th>\n",
       "      <td>돗토리 현</td>\n",
       "      <td>いのよし</td>\n",
       "      <td>이노요시</td>\n",
       "    </tr>\n",
       "    <tr>\n",
       "      <th>172</th>\n",
       "      <td>시마네 현</td>\n",
       "      <td>空海</td>\n",
       "      <td>구우카이</td>\n",
       "    </tr>\n",
       "    <tr>\n",
       "      <th>173</th>\n",
       "      <td>시마네 현</td>\n",
       "      <td>三洋軒</td>\n",
       "      <td>산요켄</td>\n",
       "    </tr>\n",
       "    <tr>\n",
       "      <th>174</th>\n",
       "      <td>가가와 현</td>\n",
       "      <td>黄昏タンデム</td>\n",
       "      <td>타소가레탄데무</td>\n",
       "    </tr>\n",
       "    <tr>\n",
       "      <th>175</th>\n",
       "      <td>가가와 현</td>\n",
       "      <td>支那そば 讃岐ロック</td>\n",
       "      <td>시나소바 사누키로쿠</td>\n",
       "    </tr>\n",
       "  </tbody>\n",
       "</table>\n",
       "<p>176 rows × 3 columns</p>\n",
       "</div>"
      ],
      "text/plain": [
       "    dohuken     jshopname      kshopname\n",
       "0     오사카 시          麦と麺助         무기토멘스케\n",
       "1     오사카 시    世界一暇なラーメン屋    세카이이치히마나라멘야\n",
       "2     오사카 시  烈志笑魚油 麺香房 三く             산쿠\n",
       "3     오사카 시         燃えよ麺助        모에요 멘스케\n",
       "4     오사카 시  くそオヤジ最後のひとふり  쿠소오야지사이고노히토후리\n",
       "..      ...           ...            ...\n",
       "171   돗토리 현          いのよし           이노요시\n",
       "172   시마네 현           空海            구우카이\n",
       "173   시마네 현           三洋軒            산요켄\n",
       "174   가가와 현        黄昏タンデム        타소가레탄데무\n",
       "175   가가와 현    支那そば 讃岐ロック     시나소바 사누키로쿠\n",
       "\n",
       "[176 rows x 3 columns]"
      ]
     },
     "execution_count": 122,
     "metadata": {},
     "output_type": "execute_result"
    }
   ],
   "source": [
    "data2"
   ]
  },
  {
   "cell_type": "code",
   "execution_count": 123,
   "metadata": {
    "ExecuteTime": {
     "end_time": "2021-03-16T10:53:17.651902Z",
     "start_time": "2021-03-16T10:53:17.624974Z"
    }
   },
   "outputs": [
    {
     "data": {
      "text/html": [
       "<div>\n",
       "<style scoped>\n",
       "    .dataframe tbody tr th:only-of-type {\n",
       "        vertical-align: middle;\n",
       "    }\n",
       "\n",
       "    .dataframe tbody tr th {\n",
       "        vertical-align: top;\n",
       "    }\n",
       "\n",
       "    .dataframe thead th {\n",
       "        text-align: right;\n",
       "    }\n",
       "</style>\n",
       "<table border=\"1\" class=\"dataframe\">\n",
       "  <thead>\n",
       "    <tr style=\"text-align: right;\">\n",
       "      <th></th>\n",
       "      <th>dohuken</th>\n",
       "      <th>jshopname</th>\n",
       "      <th>kshopname</th>\n",
       "    </tr>\n",
       "  </thead>\n",
       "  <tbody>\n",
       "    <tr>\n",
       "      <th>0</th>\n",
       "      <td>오사카시</td>\n",
       "      <td>麦と麺助</td>\n",
       "      <td>무기토멘스케</td>\n",
       "    </tr>\n",
       "    <tr>\n",
       "      <th>1</th>\n",
       "      <td>오사카시</td>\n",
       "      <td>世界一暇なラーメン屋</td>\n",
       "      <td>세카이이치히마나라멘야</td>\n",
       "    </tr>\n",
       "    <tr>\n",
       "      <th>2</th>\n",
       "      <td>오사카시</td>\n",
       "      <td>烈志笑魚油 麺香房 三く</td>\n",
       "      <td>산쿠</td>\n",
       "    </tr>\n",
       "    <tr>\n",
       "      <th>3</th>\n",
       "      <td>오사카시</td>\n",
       "      <td>燃えよ麺助</td>\n",
       "      <td>모에요 멘스케</td>\n",
       "    </tr>\n",
       "    <tr>\n",
       "      <th>4</th>\n",
       "      <td>오사카시</td>\n",
       "      <td>くそオヤジ最後のひとふり</td>\n",
       "      <td>쿠소오야지사이고노히토후리</td>\n",
       "    </tr>\n",
       "    <tr>\n",
       "      <th>...</th>\n",
       "      <td>...</td>\n",
       "      <td>...</td>\n",
       "      <td>...</td>\n",
       "    </tr>\n",
       "    <tr>\n",
       "      <th>171</th>\n",
       "      <td>돗토리현</td>\n",
       "      <td>いのよし</td>\n",
       "      <td>이노요시</td>\n",
       "    </tr>\n",
       "    <tr>\n",
       "      <th>172</th>\n",
       "      <td>시마네현</td>\n",
       "      <td>空海</td>\n",
       "      <td>구우카이</td>\n",
       "    </tr>\n",
       "    <tr>\n",
       "      <th>173</th>\n",
       "      <td>시마네현</td>\n",
       "      <td>三洋軒</td>\n",
       "      <td>산요켄</td>\n",
       "    </tr>\n",
       "    <tr>\n",
       "      <th>174</th>\n",
       "      <td>가가와현</td>\n",
       "      <td>黄昏タンデム</td>\n",
       "      <td>타소가레탄데무</td>\n",
       "    </tr>\n",
       "    <tr>\n",
       "      <th>175</th>\n",
       "      <td>가가와현</td>\n",
       "      <td>支那そば 讃岐ロック</td>\n",
       "      <td>시나소바 사누키로쿠</td>\n",
       "    </tr>\n",
       "  </tbody>\n",
       "</table>\n",
       "<p>176 rows × 3 columns</p>\n",
       "</div>"
      ],
      "text/plain": [
       "    dohuken     jshopname      kshopname\n",
       "0      오사카시          麦と麺助         무기토멘스케\n",
       "1      오사카시    世界一暇なラーメン屋    세카이이치히마나라멘야\n",
       "2      오사카시  烈志笑魚油 麺香房 三く             산쿠\n",
       "3      오사카시         燃えよ麺助        모에요 멘스케\n",
       "4      오사카시  くそオヤジ最後のひとふり  쿠소오야지사이고노히토후리\n",
       "..      ...           ...            ...\n",
       "171    돗토리현          いのよし           이노요시\n",
       "172    시마네현           空海            구우카이\n",
       "173    시마네현           三洋軒            산요켄\n",
       "174    가가와현        黄昏タンデム        타소가레탄데무\n",
       "175    가가와현    支那そば 讃岐ロック     시나소바 사누키로쿠\n",
       "\n",
       "[176 rows x 3 columns]"
      ]
     },
     "execution_count": 123,
     "metadata": {},
     "output_type": "execute_result"
    }
   ],
   "source": [
    "data2['dohuken'] = data2['dohuken'].apply(lambda x : x.replace(' ',''))\n",
    "data2"
   ]
  },
  {
   "cell_type": "code",
   "execution_count": 124,
   "metadata": {
    "ExecuteTime": {
     "end_time": "2021-03-16T10:53:17.681932Z",
     "start_time": "2021-03-16T10:53:17.655893Z"
    }
   },
   "outputs": [
    {
     "data": {
      "text/html": [
       "<div>\n",
       "<style scoped>\n",
       "    .dataframe tbody tr th:only-of-type {\n",
       "        vertical-align: middle;\n",
       "    }\n",
       "\n",
       "    .dataframe tbody tr th {\n",
       "        vertical-align: top;\n",
       "    }\n",
       "\n",
       "    .dataframe thead th {\n",
       "        text-align: right;\n",
       "    }\n",
       "</style>\n",
       "<table border=\"1\" class=\"dataframe\">\n",
       "  <thead>\n",
       "    <tr style=\"text-align: right;\">\n",
       "      <th></th>\n",
       "      <th>dohuken</th>\n",
       "      <th>jshopname</th>\n",
       "      <th>kshopname</th>\n",
       "    </tr>\n",
       "  </thead>\n",
       "  <tbody>\n",
       "    <tr>\n",
       "      <th>0</th>\n",
       "      <td>오사카</td>\n",
       "      <td>麦と麺助</td>\n",
       "      <td>무기토멘스케</td>\n",
       "    </tr>\n",
       "    <tr>\n",
       "      <th>1</th>\n",
       "      <td>오사카</td>\n",
       "      <td>世界一暇なラーメン屋</td>\n",
       "      <td>세카이이치히마나라멘야</td>\n",
       "    </tr>\n",
       "    <tr>\n",
       "      <th>2</th>\n",
       "      <td>오사카</td>\n",
       "      <td>烈志笑魚油 麺香房 三く</td>\n",
       "      <td>산쿠</td>\n",
       "    </tr>\n",
       "    <tr>\n",
       "      <th>3</th>\n",
       "      <td>오사카</td>\n",
       "      <td>燃えよ麺助</td>\n",
       "      <td>모에요 멘스케</td>\n",
       "    </tr>\n",
       "    <tr>\n",
       "      <th>4</th>\n",
       "      <td>오사카</td>\n",
       "      <td>くそオヤジ最後のひとふり</td>\n",
       "      <td>쿠소오야지사이고노히토후리</td>\n",
       "    </tr>\n",
       "    <tr>\n",
       "      <th>...</th>\n",
       "      <td>...</td>\n",
       "      <td>...</td>\n",
       "      <td>...</td>\n",
       "    </tr>\n",
       "    <tr>\n",
       "      <th>171</th>\n",
       "      <td>돗토리</td>\n",
       "      <td>いのよし</td>\n",
       "      <td>이노요시</td>\n",
       "    </tr>\n",
       "    <tr>\n",
       "      <th>172</th>\n",
       "      <td>시마네</td>\n",
       "      <td>空海</td>\n",
       "      <td>구우카이</td>\n",
       "    </tr>\n",
       "    <tr>\n",
       "      <th>173</th>\n",
       "      <td>시마네</td>\n",
       "      <td>三洋軒</td>\n",
       "      <td>산요켄</td>\n",
       "    </tr>\n",
       "    <tr>\n",
       "      <th>174</th>\n",
       "      <td>가가와</td>\n",
       "      <td>黄昏タンデム</td>\n",
       "      <td>타소가레탄데무</td>\n",
       "    </tr>\n",
       "    <tr>\n",
       "      <th>175</th>\n",
       "      <td>가가와</td>\n",
       "      <td>支那そば 讃岐ロック</td>\n",
       "      <td>시나소바 사누키로쿠</td>\n",
       "    </tr>\n",
       "  </tbody>\n",
       "</table>\n",
       "<p>176 rows × 3 columns</p>\n",
       "</div>"
      ],
      "text/plain": [
       "    dohuken     jshopname      kshopname\n",
       "0       오사카          麦と麺助         무기토멘스케\n",
       "1       오사카    世界一暇なラーメン屋    세카이이치히마나라멘야\n",
       "2       오사카  烈志笑魚油 麺香房 三く             산쿠\n",
       "3       오사카         燃えよ麺助        모에요 멘스케\n",
       "4       오사카  くそオヤジ最後のひとふり  쿠소오야지사이고노히토후리\n",
       "..      ...           ...            ...\n",
       "171     돗토리          いのよし           이노요시\n",
       "172     시마네           空海            구우카이\n",
       "173     시마네           三洋軒            산요켄\n",
       "174     가가와        黄昏タンデム        타소가레탄데무\n",
       "175     가가와    支那そば 讃岐ロック     시나소바 사누키로쿠\n",
       "\n",
       "[176 rows x 3 columns]"
      ]
     },
     "execution_count": 124,
     "metadata": {},
     "output_type": "execute_result"
    }
   ],
   "source": [
    "data2['dohuken'] = data2['dohuken'].apply(lambda x : x[:-1])\n",
    "data2"
   ]
  },
  {
   "cell_type": "code",
   "execution_count": 125,
   "metadata": {
    "ExecuteTime": {
     "end_time": "2021-03-16T10:53:17.712680Z",
     "start_time": "2021-03-16T10:53:17.685002Z"
    }
   },
   "outputs": [
    {
     "data": {
      "text/html": [
       "<div>\n",
       "<style scoped>\n",
       "    .dataframe tbody tr th:only-of-type {\n",
       "        vertical-align: middle;\n",
       "    }\n",
       "\n",
       "    .dataframe tbody tr th {\n",
       "        vertical-align: top;\n",
       "    }\n",
       "\n",
       "    .dataframe thead th {\n",
       "        text-align: right;\n",
       "    }\n",
       "</style>\n",
       "<table border=\"1\" class=\"dataframe\">\n",
       "  <thead>\n",
       "    <tr style=\"text-align: right;\">\n",
       "      <th></th>\n",
       "      <th>knkor</th>\n",
       "      <th>knjpn</th>\n",
       "      <th>knhira</th>\n",
       "    </tr>\n",
       "  </thead>\n",
       "  <tbody>\n",
       "    <tr>\n",
       "      <th>0</th>\n",
       "      <td>가가와현</td>\n",
       "      <td>香川県</td>\n",
       "      <td>かがわけん</td>\n",
       "    </tr>\n",
       "    <tr>\n",
       "      <th>1</th>\n",
       "      <td>가고시마현</td>\n",
       "      <td>鹿児島県</td>\n",
       "      <td>かごしまけん</td>\n",
       "    </tr>\n",
       "    <tr>\n",
       "      <th>2</th>\n",
       "      <td>가나가와현</td>\n",
       "      <td>神奈川県</td>\n",
       "      <td>かながわけん</td>\n",
       "    </tr>\n",
       "    <tr>\n",
       "      <th>3</th>\n",
       "      <td>고치현</td>\n",
       "      <td>高知県</td>\n",
       "      <td>こうちけん</td>\n",
       "    </tr>\n",
       "    <tr>\n",
       "      <th>4</th>\n",
       "      <td>교토부</td>\n",
       "      <td>京都府</td>\n",
       "      <td>きょうとふ</td>\n",
       "    </tr>\n",
       "  </tbody>\n",
       "</table>\n",
       "</div>"
      ],
      "text/plain": [
       "   knkor knjpn  knhira\n",
       "0   가가와현   香川県   かがわけん\n",
       "1  가고시마현  鹿児島県  かごしまけん\n",
       "2  가나가와현  神奈川県  かながわけん\n",
       "3    고치현   高知県   こうちけん\n",
       "4    교토부   京都府   きょうとふ"
      ]
     },
     "execution_count": 125,
     "metadata": {},
     "output_type": "execute_result"
    }
   ],
   "source": [
    "kenname = pd.read_csv('./ken_name.csv')\n",
    "kenname.head(5)"
   ]
  },
  {
   "cell_type": "code",
   "execution_count": 126,
   "metadata": {
    "ExecuteTime": {
     "end_time": "2021-03-16T10:53:17.742636Z",
     "start_time": "2021-03-16T10:53:17.714781Z"
    }
   },
   "outputs": [
    {
     "name": "stdout",
     "output_type": "stream",
     "text": [
      "<class 'pandas.core.frame.DataFrame'>\n",
      "RangeIndex: 47 entries, 0 to 46\n",
      "Data columns (total 3 columns):\n",
      " #   Column  Non-Null Count  Dtype \n",
      "---  ------  --------------  ----- \n",
      " 0   knkor   47 non-null     object\n",
      " 1   knjpn   47 non-null     object\n",
      " 2   knhira  47 non-null     object\n",
      "dtypes: object(3)\n",
      "memory usage: 1.2+ KB\n"
     ]
    }
   ],
   "source": [
    "kenname.info()"
   ]
  },
  {
   "cell_type": "code",
   "execution_count": 127,
   "metadata": {
    "ExecuteTime": {
     "end_time": "2021-03-16T10:53:17.757607Z",
     "start_time": "2021-03-16T10:53:17.745630Z"
    }
   },
   "outputs": [
    {
     "data": {
      "text/plain": [
       "'가가와'"
      ]
     },
     "execution_count": 127,
     "metadata": {},
     "output_type": "execute_result"
    }
   ],
   "source": [
    "kenname['knkor'][0][:-1]"
   ]
  },
  {
   "cell_type": "code",
   "execution_count": 128,
   "metadata": {
    "ExecuteTime": {
     "end_time": "2021-03-16T10:53:17.772563Z",
     "start_time": "2021-03-16T10:53:17.759598Z"
    }
   },
   "outputs": [],
   "source": [
    "kenname['knkor'] = kenname['knkor'].apply(lambda x : x[:-1])"
   ]
  },
  {
   "cell_type": "code",
   "execution_count": 129,
   "metadata": {
    "ExecuteTime": {
     "end_time": "2021-03-16T10:53:17.787803Z",
     "start_time": "2021-03-16T10:53:17.774330Z"
    }
   },
   "outputs": [
    {
     "data": {
      "text/html": [
       "<div>\n",
       "<style scoped>\n",
       "    .dataframe tbody tr th:only-of-type {\n",
       "        vertical-align: middle;\n",
       "    }\n",
       "\n",
       "    .dataframe tbody tr th {\n",
       "        vertical-align: top;\n",
       "    }\n",
       "\n",
       "    .dataframe thead th {\n",
       "        text-align: right;\n",
       "    }\n",
       "</style>\n",
       "<table border=\"1\" class=\"dataframe\">\n",
       "  <thead>\n",
       "    <tr style=\"text-align: right;\">\n",
       "      <th></th>\n",
       "      <th>knkor</th>\n",
       "      <th>knjpn</th>\n",
       "      <th>knhira</th>\n",
       "    </tr>\n",
       "  </thead>\n",
       "  <tbody>\n",
       "    <tr>\n",
       "      <th>0</th>\n",
       "      <td>가가와</td>\n",
       "      <td>香川県</td>\n",
       "      <td>かがわけん</td>\n",
       "    </tr>\n",
       "    <tr>\n",
       "      <th>1</th>\n",
       "      <td>가고시마</td>\n",
       "      <td>鹿児島県</td>\n",
       "      <td>かごしまけん</td>\n",
       "    </tr>\n",
       "    <tr>\n",
       "      <th>2</th>\n",
       "      <td>가나가와</td>\n",
       "      <td>神奈川県</td>\n",
       "      <td>かながわけん</td>\n",
       "    </tr>\n",
       "    <tr>\n",
       "      <th>3</th>\n",
       "      <td>고치</td>\n",
       "      <td>高知県</td>\n",
       "      <td>こうちけん</td>\n",
       "    </tr>\n",
       "    <tr>\n",
       "      <th>4</th>\n",
       "      <td>교토</td>\n",
       "      <td>京都府</td>\n",
       "      <td>きょうとふ</td>\n",
       "    </tr>\n",
       "  </tbody>\n",
       "</table>\n",
       "</div>"
      ],
      "text/plain": [
       "  knkor knjpn  knhira\n",
       "0   가가와   香川県   かがわけん\n",
       "1  가고시마  鹿児島県  かごしまけん\n",
       "2  가나가와  神奈川県  かながわけん\n",
       "3    고치   高知県   こうちけん\n",
       "4    교토   京都府   きょうとふ"
      ]
     },
     "execution_count": 129,
     "metadata": {},
     "output_type": "execute_result"
    }
   ],
   "source": [
    "kenname.head()"
   ]
  },
  {
   "cell_type": "code",
   "execution_count": 130,
   "metadata": {
    "ExecuteTime": {
     "end_time": "2021-03-16T10:53:17.802765Z",
     "start_time": "2021-03-16T10:53:17.790797Z"
    }
   },
   "outputs": [],
   "source": [
    "kenkor2jpn = dict(zip(kenname['knkor'], kenname['knjpn'])) "
   ]
  },
  {
   "cell_type": "code",
   "execution_count": 131,
   "metadata": {
    "ExecuteTime": {
     "end_time": "2021-03-16T10:53:17.817722Z",
     "start_time": "2021-03-16T10:53:17.804770Z"
    },
    "scrolled": true
   },
   "outputs": [
    {
     "data": {
      "text/plain": [
       "'大阪府'"
      ]
     },
     "execution_count": 131,
     "metadata": {},
     "output_type": "execute_result"
    }
   ],
   "source": [
    "kenkor2jpn['오사카']"
   ]
  },
  {
   "cell_type": "code",
   "execution_count": 132,
   "metadata": {
    "ExecuteTime": {
     "end_time": "2021-03-16T10:53:17.832683Z",
     "start_time": "2021-03-16T10:53:17.821714Z"
    }
   },
   "outputs": [],
   "source": [
    "def wordchange(x):\n",
    "    if x == '치바':\n",
    "        x = '지바'\n",
    "        return x\n",
    "    else:\n",
    "        pass\n",
    "    "
   ]
  },
  {
   "cell_type": "code",
   "execution_count": 133,
   "metadata": {
    "ExecuteTime": {
     "end_time": "2021-03-16T10:53:17.847644Z",
     "start_time": "2021-03-16T10:53:17.835676Z"
    },
    "scrolled": true
   },
   "outputs": [
    {
     "data": {
      "text/plain": [
       "0      False\n",
       "1      False\n",
       "2      False\n",
       "3      False\n",
       "4      False\n",
       "       ...  \n",
       "171    False\n",
       "172    False\n",
       "173    False\n",
       "174    False\n",
       "175    False\n",
       "Name: dohuken, Length: 176, dtype: bool"
      ]
     },
     "execution_count": 133,
     "metadata": {},
     "output_type": "execute_result"
    }
   ],
   "source": [
    "data2['dohuken'] == data2['dohuken'].apply(lambda x : wordchange(x))"
   ]
  },
  {
   "cell_type": "code",
   "execution_count": 134,
   "metadata": {
    "ExecuteTime": {
     "end_time": "2021-03-16T10:53:17.862608Z",
     "start_time": "2021-03-16T10:53:17.849638Z"
    }
   },
   "outputs": [
    {
     "data": {
      "text/html": [
       "<div>\n",
       "<style scoped>\n",
       "    .dataframe tbody tr th:only-of-type {\n",
       "        vertical-align: middle;\n",
       "    }\n",
       "\n",
       "    .dataframe tbody tr th {\n",
       "        vertical-align: top;\n",
       "    }\n",
       "\n",
       "    .dataframe thead th {\n",
       "        text-align: right;\n",
       "    }\n",
       "</style>\n",
       "<table border=\"1\" class=\"dataframe\">\n",
       "  <thead>\n",
       "    <tr style=\"text-align: right;\">\n",
       "      <th></th>\n",
       "      <th>dohuken</th>\n",
       "      <th>jshopname</th>\n",
       "      <th>kshopname</th>\n",
       "    </tr>\n",
       "  </thead>\n",
       "  <tbody>\n",
       "    <tr>\n",
       "      <th>0</th>\n",
       "      <td>오사카</td>\n",
       "      <td>麦と麺助</td>\n",
       "      <td>무기토멘스케</td>\n",
       "    </tr>\n",
       "    <tr>\n",
       "      <th>1</th>\n",
       "      <td>오사카</td>\n",
       "      <td>世界一暇なラーメン屋</td>\n",
       "      <td>세카이이치히마나라멘야</td>\n",
       "    </tr>\n",
       "    <tr>\n",
       "      <th>2</th>\n",
       "      <td>오사카</td>\n",
       "      <td>烈志笑魚油 麺香房 三く</td>\n",
       "      <td>산쿠</td>\n",
       "    </tr>\n",
       "    <tr>\n",
       "      <th>3</th>\n",
       "      <td>오사카</td>\n",
       "      <td>燃えよ麺助</td>\n",
       "      <td>모에요 멘스케</td>\n",
       "    </tr>\n",
       "    <tr>\n",
       "      <th>4</th>\n",
       "      <td>오사카</td>\n",
       "      <td>くそオヤジ最後のひとふり</td>\n",
       "      <td>쿠소오야지사이고노히토후리</td>\n",
       "    </tr>\n",
       "    <tr>\n",
       "      <th>...</th>\n",
       "      <td>...</td>\n",
       "      <td>...</td>\n",
       "      <td>...</td>\n",
       "    </tr>\n",
       "    <tr>\n",
       "      <th>171</th>\n",
       "      <td>돗토리</td>\n",
       "      <td>いのよし</td>\n",
       "      <td>이노요시</td>\n",
       "    </tr>\n",
       "    <tr>\n",
       "      <th>172</th>\n",
       "      <td>시마네</td>\n",
       "      <td>空海</td>\n",
       "      <td>구우카이</td>\n",
       "    </tr>\n",
       "    <tr>\n",
       "      <th>173</th>\n",
       "      <td>시마네</td>\n",
       "      <td>三洋軒</td>\n",
       "      <td>산요켄</td>\n",
       "    </tr>\n",
       "    <tr>\n",
       "      <th>174</th>\n",
       "      <td>가가와</td>\n",
       "      <td>黄昏タンデム</td>\n",
       "      <td>타소가레탄데무</td>\n",
       "    </tr>\n",
       "    <tr>\n",
       "      <th>175</th>\n",
       "      <td>가가와</td>\n",
       "      <td>支那そば 讃岐ロック</td>\n",
       "      <td>시나소바 사누키로쿠</td>\n",
       "    </tr>\n",
       "  </tbody>\n",
       "</table>\n",
       "<p>176 rows × 3 columns</p>\n",
       "</div>"
      ],
      "text/plain": [
       "    dohuken     jshopname      kshopname\n",
       "0       오사카          麦と麺助         무기토멘스케\n",
       "1       오사카    世界一暇なラーメン屋    세카이이치히마나라멘야\n",
       "2       오사카  烈志笑魚油 麺香房 三く             산쿠\n",
       "3       오사카         燃えよ麺助        모에요 멘스케\n",
       "4       오사카  くそオヤジ最後のひとふり  쿠소오야지사이고노히토후리\n",
       "..      ...           ...            ...\n",
       "171     돗토리          いのよし           이노요시\n",
       "172     시마네           空海            구우카이\n",
       "173     시마네           三洋軒            산요켄\n",
       "174     가가와        黄昏タンデム        타소가레탄데무\n",
       "175     가가와    支那そば 讃岐ロック     시나소바 사누키로쿠\n",
       "\n",
       "[176 rows x 3 columns]"
      ]
     },
     "execution_count": 134,
     "metadata": {},
     "output_type": "execute_result"
    }
   ],
   "source": [
    "data2"
   ]
  },
  {
   "cell_type": "code",
   "execution_count": 135,
   "metadata": {
    "ExecuteTime": {
     "end_time": "2021-03-16T10:53:17.877778Z",
     "start_time": "2021-03-16T10:53:17.864598Z"
    },
    "scrolled": true
   },
   "outputs": [],
   "source": [
    "data2.loc[data2['dohuken'] == '치바', ['dohuken']] = '지바'"
   ]
  },
  {
   "cell_type": "code",
   "execution_count": 136,
   "metadata": {
    "ExecuteTime": {
     "end_time": "2021-03-16T10:53:17.892751Z",
     "start_time": "2021-03-16T10:53:17.879774Z"
    }
   },
   "outputs": [],
   "source": [
    "data2.loc[data2['dohuken'] == '쿠마모토', ['dohuken']] = '구마모토'"
   ]
  },
  {
   "cell_type": "code",
   "execution_count": 137,
   "metadata": {
    "ExecuteTime": {
     "end_time": "2021-03-16T10:53:17.907958Z",
     "start_time": "2021-03-16T10:53:17.896728Z"
    }
   },
   "outputs": [],
   "source": [
    "data2.loc[data2['dohuken'] == '나고야', ['dohuken']] = '아이치'"
   ]
  },
  {
   "cell_type": "code",
   "execution_count": 138,
   "metadata": {
    "ExecuteTime": {
     "end_time": "2021-03-16T10:53:17.922673Z",
     "start_time": "2021-03-16T10:53:17.910899Z"
    }
   },
   "outputs": [
    {
     "data": {
      "text/html": [
       "<div>\n",
       "<style scoped>\n",
       "    .dataframe tbody tr th:only-of-type {\n",
       "        vertical-align: middle;\n",
       "    }\n",
       "\n",
       "    .dataframe tbody tr th {\n",
       "        vertical-align: top;\n",
       "    }\n",
       "\n",
       "    .dataframe thead th {\n",
       "        text-align: right;\n",
       "    }\n",
       "</style>\n",
       "<table border=\"1\" class=\"dataframe\">\n",
       "  <thead>\n",
       "    <tr style=\"text-align: right;\">\n",
       "      <th></th>\n",
       "      <th>dohuken</th>\n",
       "    </tr>\n",
       "  </thead>\n",
       "  <tbody>\n",
       "    <tr>\n",
       "      <th>40</th>\n",
       "      <td>지바</td>\n",
       "    </tr>\n",
       "    <tr>\n",
       "      <th>58</th>\n",
       "      <td>지바</td>\n",
       "    </tr>\n",
       "    <tr>\n",
       "      <th>59</th>\n",
       "      <td>지바</td>\n",
       "    </tr>\n",
       "    <tr>\n",
       "      <th>60</th>\n",
       "      <td>지바</td>\n",
       "    </tr>\n",
       "  </tbody>\n",
       "</table>\n",
       "</div>"
      ],
      "text/plain": [
       "   dohuken\n",
       "40      지바\n",
       "58      지바\n",
       "59      지바\n",
       "60      지바"
      ]
     },
     "execution_count": 138,
     "metadata": {},
     "output_type": "execute_result"
    }
   ],
   "source": [
    "data2.loc[data2['dohuken'] == '지바', ['dohuken']]"
   ]
  },
  {
   "cell_type": "code",
   "execution_count": 139,
   "metadata": {
    "ExecuteTime": {
     "end_time": "2021-03-16T10:53:17.937632Z",
     "start_time": "2021-03-16T10:53:17.924786Z"
    },
    "scrolled": true
   },
   "outputs": [],
   "source": [
    "data2['dohukenjpn'] = data2['dohuken'].apply(lambda x : kenkor2jpn[x])"
   ]
  },
  {
   "cell_type": "code",
   "execution_count": 141,
   "metadata": {
    "ExecuteTime": {
     "end_time": "2021-03-16T10:53:53.471944Z",
     "start_time": "2021-03-16T10:53:53.461005Z"
    }
   },
   "outputs": [],
   "source": [
    "data2 = data2[['dohukenjpn', 'jshopname', 'dohuken', 'kshopname']]"
   ]
  },
  {
   "cell_type": "code",
   "execution_count": 142,
   "metadata": {
    "ExecuteTime": {
     "end_time": "2021-03-16T10:53:56.239883Z",
     "start_time": "2021-03-16T10:53:56.227882Z"
    }
   },
   "outputs": [
    {
     "data": {
      "text/html": [
       "<div>\n",
       "<style scoped>\n",
       "    .dataframe tbody tr th:only-of-type {\n",
       "        vertical-align: middle;\n",
       "    }\n",
       "\n",
       "    .dataframe tbody tr th {\n",
       "        vertical-align: top;\n",
       "    }\n",
       "\n",
       "    .dataframe thead th {\n",
       "        text-align: right;\n",
       "    }\n",
       "</style>\n",
       "<table border=\"1\" class=\"dataframe\">\n",
       "  <thead>\n",
       "    <tr style=\"text-align: right;\">\n",
       "      <th></th>\n",
       "      <th>dohukenjpn</th>\n",
       "      <th>jshopname</th>\n",
       "      <th>dohuken</th>\n",
       "      <th>kshopname</th>\n",
       "    </tr>\n",
       "  </thead>\n",
       "  <tbody>\n",
       "    <tr>\n",
       "      <th>0</th>\n",
       "      <td>大阪府</td>\n",
       "      <td>麦と麺助</td>\n",
       "      <td>오사카</td>\n",
       "      <td>무기토멘스케</td>\n",
       "    </tr>\n",
       "    <tr>\n",
       "      <th>1</th>\n",
       "      <td>大阪府</td>\n",
       "      <td>世界一暇なラーメン屋</td>\n",
       "      <td>오사카</td>\n",
       "      <td>세카이이치히마나라멘야</td>\n",
       "    </tr>\n",
       "    <tr>\n",
       "      <th>2</th>\n",
       "      <td>大阪府</td>\n",
       "      <td>烈志笑魚油 麺香房 三く</td>\n",
       "      <td>오사카</td>\n",
       "      <td>산쿠</td>\n",
       "    </tr>\n",
       "    <tr>\n",
       "      <th>3</th>\n",
       "      <td>大阪府</td>\n",
       "      <td>燃えよ麺助</td>\n",
       "      <td>오사카</td>\n",
       "      <td>모에요 멘스케</td>\n",
       "    </tr>\n",
       "    <tr>\n",
       "      <th>4</th>\n",
       "      <td>大阪府</td>\n",
       "      <td>くそオヤジ最後のひとふり</td>\n",
       "      <td>오사카</td>\n",
       "      <td>쿠소오야지사이고노히토후리</td>\n",
       "    </tr>\n",
       "    <tr>\n",
       "      <th>...</th>\n",
       "      <td>...</td>\n",
       "      <td>...</td>\n",
       "      <td>...</td>\n",
       "      <td>...</td>\n",
       "    </tr>\n",
       "    <tr>\n",
       "      <th>171</th>\n",
       "      <td>鳥取県</td>\n",
       "      <td>いのよし</td>\n",
       "      <td>돗토리</td>\n",
       "      <td>이노요시</td>\n",
       "    </tr>\n",
       "    <tr>\n",
       "      <th>172</th>\n",
       "      <td>島根県</td>\n",
       "      <td>空海</td>\n",
       "      <td>시마네</td>\n",
       "      <td>구우카이</td>\n",
       "    </tr>\n",
       "    <tr>\n",
       "      <th>173</th>\n",
       "      <td>島根県</td>\n",
       "      <td>三洋軒</td>\n",
       "      <td>시마네</td>\n",
       "      <td>산요켄</td>\n",
       "    </tr>\n",
       "    <tr>\n",
       "      <th>174</th>\n",
       "      <td>香川県</td>\n",
       "      <td>黄昏タンデム</td>\n",
       "      <td>가가와</td>\n",
       "      <td>타소가레탄데무</td>\n",
       "    </tr>\n",
       "    <tr>\n",
       "      <th>175</th>\n",
       "      <td>香川県</td>\n",
       "      <td>支那そば 讃岐ロック</td>\n",
       "      <td>가가와</td>\n",
       "      <td>시나소바 사누키로쿠</td>\n",
       "    </tr>\n",
       "  </tbody>\n",
       "</table>\n",
       "<p>176 rows × 4 columns</p>\n",
       "</div>"
      ],
      "text/plain": [
       "    dohukenjpn     jshopname dohuken      kshopname\n",
       "0          大阪府          麦と麺助     오사카         무기토멘스케\n",
       "1          大阪府    世界一暇なラーメン屋     오사카    세카이이치히마나라멘야\n",
       "2          大阪府  烈志笑魚油 麺香房 三く     오사카             산쿠\n",
       "3          大阪府         燃えよ麺助     오사카        모에요 멘스케\n",
       "4          大阪府  くそオヤジ最後のひとふり     오사카  쿠소오야지사이고노히토후리\n",
       "..         ...           ...     ...            ...\n",
       "171        鳥取県          いのよし     돗토리           이노요시\n",
       "172        島根県           空海      시마네           구우카이\n",
       "173        島根県           三洋軒     시마네            산요켄\n",
       "174        香川県        黄昏タンデム     가가와        타소가레탄데무\n",
       "175        香川県    支那そば 讃岐ロック     가가와     시나소바 사누키로쿠\n",
       "\n",
       "[176 rows x 4 columns]"
      ]
     },
     "execution_count": 142,
     "metadata": {},
     "output_type": "execute_result"
    }
   ],
   "source": [
    "data2"
   ]
  },
  {
   "cell_type": "code",
   "execution_count": 21,
   "metadata": {
    "ExecuteTime": {
     "end_time": "2021-03-16T09:20:26.788170Z",
     "start_time": "2021-03-16T09:20:26.773695Z"
    },
    "scrolled": true
   },
   "outputs": [
    {
     "name": "stdout",
     "output_type": "stream",
     "text": [
      "가가와\n",
      "가고시마\n",
      "가나가와\n",
      "고치\n",
      "교토\n",
      "구마모토\n",
      "군마\n",
      "기후\n",
      "나가노\n",
      "나가사키\n",
      "나라\n",
      "니가타\n",
      "도야마\n",
      "도치기\n",
      "도쿄\n",
      "도쿠시마\n",
      "돗토리\n",
      "미야기\n",
      "미야자키\n",
      "미에\n",
      "사가\n",
      "사이타마\n",
      "시가\n",
      "시마네\n",
      "시즈오카\n",
      "아오모리\n",
      "아이치\n",
      "아키타\n",
      "야마가타\n",
      "야마구치\n",
      "야마나시\n",
      "에히메\n",
      "오사카\n",
      "오이타\n",
      "오카야마\n",
      "오키나와\n",
      "와카야마\n",
      "이바라키\n",
      "이시카와\n",
      "이와테\n",
      "지바\n",
      "홋카이\n",
      "효고\n",
      "후쿠시마\n",
      "후쿠오카\n",
      "후쿠이\n",
      "히로시마\n"
     ]
    }
   ],
   "source": []
  },
  {
   "cell_type": "code",
   "execution_count": null,
   "metadata": {},
   "outputs": [],
   "source": []
  },
  {
   "cell_type": "code",
   "execution_count": null,
   "metadata": {},
   "outputs": [],
   "source": []
  }
 ],
 "metadata": {
  "kernelspec": {
   "display_name": "Python [conda env:mdai] *",
   "language": "python",
   "name": "conda-env-mdai-py"
  },
  "language_info": {
   "codemirror_mode": {
    "name": "ipython",
    "version": 3
   },
   "file_extension": ".py",
   "mimetype": "text/x-python",
   "name": "python",
   "nbconvert_exporter": "python",
   "pygments_lexer": "ipython3",
   "version": "3.8.5"
  }
 },
 "nbformat": 4,
 "nbformat_minor": 4
}
